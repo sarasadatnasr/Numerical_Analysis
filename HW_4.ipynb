{
 "cells": [
  {
   "attachments": {},
   "cell_type": "markdown",
   "metadata": {},
   "source": [
    "#  Sympy Assignment \n",
    "__Author__ : sara sadat nasr 9922109\n",
    "\n",
    "__Course__ : Undergraduate Numerical Analysis Course"
   ]
  },
  {
   "cell_type": "code",
   "execution_count": 1,
   "metadata": {},
   "outputs": [],
   "source": [
    "from sympy import *\n",
    "import math\n",
    "from sympy.abc import x, y\n",
    "from sympy import solve\n",
    "from sympy import fourier_series, pi\n",
    "from sympy.abc import x"
   ]
  },
  {
   "attachments": {},
   "cell_type": "markdown",
   "metadata": {},
   "source": [
    "## 1. Question Number 1: Symbolic Differentiation\n",
    "Find the derivative of the following functions using Sympy:"
   ]
  },
  {
   "attachments": {},
   "cell_type": "markdown",
   "metadata": {},
   "source": [
    "### Part a)\n",
    "$f(x) = x^3 - 2x^2 +5x - 7$"
   ]
  },
  {
   "cell_type": "code",
   "execution_count": 2,
   "metadata": {},
   "outputs": [
    {
     "name": "stdout",
     "output_type": "stream",
     "text": [
      "3*x**2 - 4*x + 5\n"
     ]
    }
   ],
   "source": [
    "x = Symbol('x')\n",
    "f = x**3 - 2*x**2 + 5*x + 7\n",
    "a = f.diff(x)\n",
    "print(a)"
   ]
  },
  {
   "attachments": {},
   "cell_type": "markdown",
   "metadata": {},
   "source": [
    "### Part b)\n",
    "$ g((x) = \\frac{1}{x^2 + 1}$"
   ]
  },
  {
   "cell_type": "code",
   "execution_count": 3,
   "metadata": {},
   "outputs": [
    {
     "name": "stdout",
     "output_type": "stream",
     "text": [
      "-2*x/(x**2 + 1)**2\n"
     ]
    }
   ],
   "source": [
    "x = Symbol('x')\n",
    "g = 1/((x**2)+1)\n",
    "b = g.diff(x)\n",
    "print(b)"
   ]
  },
  {
   "cell_type": "markdown",
   "metadata": {},
   "source": [
    "### Part c)\n",
    "$ h((x) = e^{2x} \\cos(x)$"
   ]
  },
  {
   "cell_type": "code",
   "execution_count": 4,
   "metadata": {},
   "outputs": [
    {
     "name": "stdout",
     "output_type": "stream",
     "text": [
      "-exp(2*x)*sin(x) + 2*exp(2*x)*cos(x)\n"
     ]
    }
   ],
   "source": [
    "x = Symbol('x')\n",
    "h = exp(2*x) * cos(x)\n",
    "b = h.diff(x)\n",
    "print(b)"
   ]
  },
  {
   "cell_type": "markdown",
   "metadata": {},
   "source": [
    "## 2. Question Number 2 : Symbolic Integration\n",
    "\n",
    "Find the indefinite integral of the following functions using Sympy:"
   ]
  },
  {
   "cell_type": "markdown",
   "metadata": {},
   "source": [
    "### Part a)\n",
    "f(x) = 2x + 5"
   ]
  },
  {
   "cell_type": "code",
   "execution_count": 5,
   "metadata": {},
   "outputs": [
    {
     "data": {
      "image/png": "[encoded data removed]",
      "text/latex": [
       "$\\displaystyle x^{2} + 5 x$"
      ],
      "text/plain": [
       " 2      \n",
       "x  + 5*x"
      ]
     },
     "execution_count": 5,
     "metadata": {},
     "output_type": "execute_result"
    }
   ],
   "source": [
    "init_printing(use_unicode=False, wrap_line=False)\n",
    "x = Symbol('x')\n",
    "integrate(2*x +  5, x)"
   ]
  },
  {
   "cell_type": "markdown",
   "metadata": {},
   "source": [
    "### Part b)\n",
    "g(x) = $ \\frac{1}{x^2+1}$"
   ]
  },
  {
   "cell_type": "code",
   "execution_count": 6,
   "metadata": {},
   "outputs": [
    {
     "data": {
      "image/png": "[encoded data removed]",
      "text/latex": [
       "$\\displaystyle \\operatorname{atan}{\\left(x \\right)}$"
      ],
      "text/plain": [
       "atan(x)"
      ]
     },
     "execution_count": 6,
     "metadata": {},
     "output_type": "execute_result"
    }
   ],
   "source": [
    "x = Symbol('x')\n",
    "integrate(1/((x**2) +1), x)"
   ]
  },
  {
   "cell_type": "markdown",
   "metadata": {},
   "source": [
    "### Part c)\n",
    "h(x) = $ \\frac{x^3}{x} − 2x^2 + 5x − 7$"
   ]
  },
  {
   "cell_type": "code",
   "execution_count": 7,
   "metadata": {},
   "outputs": [
    {
     "data": {
      "image/png": "[encoded data removed]",
      "text/latex": [
       "$\\displaystyle - \\frac{x^{3}}{3} + \\frac{5 x^{2}}{2} - 7 x$"
      ],
      "text/plain": [
       "   3      2      \n",
       "  x    5*x       \n",
       "- -- + ---- - 7*x\n",
       "  3     2        "
      ]
     },
     "execution_count": 7,
     "metadata": {},
     "output_type": "execute_result"
    }
   ],
   "source": [
    "x = Symbol('x')\n",
    "integrate((x**3)/(x) - 2*(x**2) + (5*x) -7, x)"
   ]
  },
  {
   "cell_type": "markdown",
   "metadata": {},
   "source": [
    "## 3. Question Number 3 : Solving Equations\n",
    "Solve the following equations using Sympy:\n"
   ]
  },
  {
   "cell_type": "markdown",
   "metadata": {},
   "source": [
    "### Part a)\n",
    "$x^2 − 3x + 2 = 0$"
   ]
  },
  {
   "cell_type": "code",
   "execution_count": 8,
   "metadata": {},
   "outputs": [
    {
     "data": {
      "image/png": "[encoded data removed]",
      "text/latex": [
       "$\\displaystyle \\left[ \\left\\{ x : 1\\right\\}, \\  \\left\\{ x : 2\\right\\}\\right]$"
      ],
      "text/plain": [
       "[{x: 1}, {x: 2}]"
      ]
     },
     "execution_count": 8,
     "metadata": {},
     "output_type": "execute_result"
    }
   ],
   "source": [
    "solve(x**2 - 3*x + 2, x, dict=True)"
   ]
  },
  {
   "cell_type": "markdown",
   "metadata": {},
   "source": [
    "### Part b)\n",
    "$e^x + x − 1 = 0$"
   ]
  },
  {
   "cell_type": "code",
   "execution_count": 9,
   "metadata": {},
   "outputs": [
    {
     "data": {
      "image/png": "[encoded data removed]",
      "text/latex": [
       "$\\displaystyle \\left[ \\left\\{ x : 0\\right\\}\\right]$"
      ],
      "text/plain": [
       "[{x: 0}]"
      ]
     },
     "execution_count": 9,
     "metadata": {},
     "output_type": "execute_result"
    }
   ],
   "source": [
    "solve(exp(x) + x -1, x, dict=True)"
   ]
  },
  {
   "cell_type": "markdown",
   "metadata": {},
   "source": [
    "### Part c)\n",
    "$cos(x) = \\frac{1}{2}$"
   ]
  },
  {
   "cell_type": "code",
   "execution_count": 10,
   "metadata": {},
   "outputs": [
    {
     "data": {
      "image/png": "[encoded data removed]",
      "text/latex": [
       "$\\displaystyle \\left[ \\left\\{ x : 1.0471975511966\\right\\}, \\  \\left\\{ x : 5.23598775598299\\right\\}\\right]$"
      ],
      "text/plain": [
       "[{x: 1.0471975511966}, {x: 5.23598775598299}]"
      ]
     },
     "execution_count": 10,
     "metadata": {},
     "output_type": "execute_result"
    }
   ],
   "source": [
    "solve(cos(x) - 1/2 , x, dict=True)"
   ]
  },
  {
   "cell_type": "markdown",
   "metadata": {},
   "source": [
    "## 4. Question Number 4 : Advanced Sympy\n",
    "\n",
    "Use Sympy to find the first 10 terms of the Fourier series of the following function over the in-\n",
    "terval [−π, π]:\n",
    "$\n",
    "\\begin{equation}\n",
    "f(x)=\n",
    "    \\begin{cases}\n",
    "        0 & \\text{if } -\\pi \\leq x \\leq 0\\\\\n",
    "        1 & \\text{if }   0 \\leq x \\leq \\pi\n",
    "    \\end{cases}\n",
    "\\end{equation}\n",
    "$"
   ]
  },
  {
   "cell_type": "code",
   "execution_count": 11,
   "metadata": {},
   "outputs": [
    {
     "data": {
      "image/png": "[encoded data removed]",
      "text/latex": [
       "$\\displaystyle 2 \\sin{\\left(x \\right)} - \\sin{\\left(2 x \\right)} + \\frac{2 \\sin{\\left(3 x \\right)}}{3} - \\frac{\\sin{\\left(4 x \\right)}}{2} + \\frac{2 \\sin{\\left(5 x \\right)}}{5} - \\frac{\\sin{\\left(6 x \\right)}}{3} + \\frac{2 \\sin{\\left(7 x \\right)}}{7} - \\frac{\\sin{\\left(8 x \\right)}}{4} + \\frac{2 \\sin{\\left(9 x \\right)}}{9} - \\frac{\\sin{\\left(10 x \\right)}}{5}$"
      ],
      "text/plain": [
       "                      2*sin(3*x)   sin(4*x)   2*sin(5*x)   sin(6*x)   2*sin(7*x)   sin(8*x)   2*sin(9*x)   sin(10*x)\n",
       "2*sin(x) - sin(2*x) + ---------- - -------- + ---------- - -------- + ---------- - -------- + ---------- - ---------\n",
       "                          3           2           5           3           7           4           9            5    "
      ]
     },
     "execution_count": 11,
     "metadata": {},
     "output_type": "execute_result"
    }
   ],
   "source": [
    "s = fourier_series(x, (x, -pi, pi))\n",
    "s.truncate(10)"
   ]
  },
  {
   "cell_type": "markdown",
   "metadata": {},
   "source": [
    "## 5. Question Number 5 : Application of Sympy (Bonus Question)\n",
    "Use Sympy to solve the following problem:\n",
    "\n",
    "A particle moves along the x-axis according to the equation x = 3 sin(t) − 4 sin(2t), where t is\n",
    " \n",
    "time. Find the velocity and acceleration of the particle as functions of time."
   ]
  },
  {
   "cell_type": "code",
   "execution_count": 12,
   "metadata": {},
   "outputs": [
    {
     "name": "stdout",
     "output_type": "stream",
     "text": [
      "the equation of  displacement equals : -4*sin(t) + 3*sin(x)\n",
      "the equation of  velocity equals: -4*cos(t)\n",
      "the equation of  acceleration equals: 4*sin(t)\n"
     ]
    }
   ],
   "source": [
    "x, t= symbols('x t')\n",
    "x = 3* sin(x) - 4*sin(t)\n",
    "v = x.diff(t)\n",
    "a = v.diff(t)\n",
    "print('the equation of  displacement equals :', x)\n",
    "print('the equation of  velocity equals:', v)\n",
    "print('the equation of  acceleration equals:', a)"
   ]
  },
  {
   "attachments": {},
   "cell_type": "markdown",
   "metadata": {},
   "source": [
    "## Conclusion for this problem\n",
    "Write a conclusion and references which you've used in your homework"
   ]
  },
  {
   "cell_type": "markdown",
   "metadata": {},
   "source": [
    "In this session, I learned some application functions such as diif() to calculate the derivative of a given function.\n",
    "\n",
    "In addition to integrate(), solve() and solveset(), and differencece and fourier_series(), which work as expected, and the general syntax of Sympy."
   ]
  }
 ],
 "metadata": {
  "kernelspec": {
   "display_name": "Python 3.10.6 64-bit",
   "language": "python",
   "name": "python3"
  },
  "language_info": {
   "codemirror_mode": {
    "name": "ipython",
    "version": 3
   },
   "file_extension": ".py",
   "mimetype": "text/x-python",
   "name": "python",
   "nbconvert_exporter": "python",
   "pygments_lexer": "ipython3",
   "version": "3.10.6"
  },
  "orig_nbformat": 4,
  "vscode": {
   "interpreter": {
    "hash": "e7370f93d1d0cde622a1f8e1c04877d8463912d04d973331ad4851f04de6915a"
   }
  }
 },
 "nbformat": 4,
 "nbformat_minor": 2
}
