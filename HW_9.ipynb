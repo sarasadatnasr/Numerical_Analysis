{
 "cells": [
  {
   "attachments": {},
   "cell_type": "markdown",
   "metadata": {},
   "source": [
    "# Condition Number Assignment\n",
    "__Author__ : sara sadat nasr\n",
    "\n",
    "__Course__ : Undergraduate Numerical Analysis Course"
   ]
  },
  {
   "attachments": {},
   "cell_type": "markdown",
   "metadata": {},
   "source": [
    "## Problem 1\n",
    "Calculate condition numbers for given functions in given points:"
   ]
  },
  {
   "cell_type": "code",
   "execution_count": 32,
   "metadata": {},
   "outputs": [],
   "source": [
    "import numpy as np\n",
    "from sympy import *"
   ]
  },
  {
   "attachments": {},
   "cell_type": "markdown",
   "metadata": {},
   "source": [
    "### Part a)\n",
    "$f(x) = \\ln(x), x ≈ 2$"
   ]
  },
  {
   "cell_type": "code",
   "execution_count": 35,
   "metadata": {},
   "outputs": [
    {
     "name": "stdout",
     "output_type": "stream",
     "text": [
      "The condition number of f(x) at x ≈ 2 is: 1.4426950408889634\n"
     ]
    }
   ],
   "source": [
    "x = Symbol('x')\n",
    "f = log(x)\n",
    "f_prime = f.diff(x)\n",
    "\n",
    "f = lambdify(x, f)\n",
    "f_prime = lambdify(x, f_prime)\n",
    "\n",
    "a = 2\n",
    "result = np.abs(f_prime(a) * a / f(a))\n",
    "print('The condition number of f(x) at x ≈', a, 'is:',result)"
   ]
  },
  {
   "attachments": {},
   "cell_type": "markdown",
   "metadata": {},
   "source": [
    "### Part b)\n",
    "$f(x) = 5x, x ≈ 10$"
   ]
  },
  {
   "cell_type": "code",
   "execution_count": 39,
   "metadata": {},
   "outputs": [
    {
     "name": "stdout",
     "output_type": "stream",
     "text": [
      "The condition number of f(x) at x ≈ 10 is: 1.0\n"
     ]
    }
   ],
   "source": [
    "x = Symbol('x')\n",
    "f = 5 * x\n",
    "f_prime = f.diff(x)\n",
    "\n",
    "f = lambdify(x, f)\n",
    "f_prime = lambdify(x, f_prime)\n",
    "\n",
    "a = 10\n",
    "result = np.abs(f_prime(a) * a / f(a))\n",
    "print('The condition number of f(x) at x ≈', a, 'is:',result)"
   ]
  },
  {
   "cell_type": "markdown",
   "metadata": {},
   "source": [
    "### Part c)\n",
    "$f(x) = \\sin(x), x ≈ 1$"
   ]
  },
  {
   "cell_type": "code",
   "execution_count": 42,
   "metadata": {},
   "outputs": [
    {
     "name": "stdout",
     "output_type": "stream",
     "text": [
      "The condition number of f(x) at x ≈ 1 is: 0.6420926159343306\n"
     ]
    }
   ],
   "source": [
    "x = Symbol('x')\n",
    "f = sin(x)\n",
    "f_prime = f.diff(x)\n",
    "\n",
    "f = lambdify(x, f)\n",
    "f_prime = lambdify(x, f_prime)\n",
    "\n",
    "a = 1\n",
    "result = np.abs(f_prime(a) * a / f(a))\n",
    "print('The condition number of f(x) at x ≈', a, 'is:',result)"
   ]
  },
  {
   "cell_type": "markdown",
   "metadata": {},
   "source": [
    "### Part d)\n",
    "$f(x) = \\sin(10x), x ≈ 1$"
   ]
  },
  {
   "cell_type": "code",
   "execution_count": 44,
   "metadata": {},
   "outputs": [
    {
     "name": "stdout",
     "output_type": "stream",
     "text": [
      "The condition number of f(x) at x ≈ 1 is: 15.4235104535692\n"
     ]
    }
   ],
   "source": [
    "x = Symbol('x')\n",
    "f = sin(10*x)\n",
    "f_prime = f.diff(x)\n",
    "\n",
    "f = lambdify(x, f)\n",
    "f_prime = lambdify(x, f_prime)\n",
    "\n",
    "a = 1\n",
    "result = np.abs(f_prime(a) * a / f(a))\n",
    "print('The condition number of f(x) at x ≈', a, 'is:',result)"
   ]
  },
  {
   "attachments": {},
   "cell_type": "markdown",
   "metadata": {},
   "source": [
    "## Conclusion for this problem\n",
    "In this session, we studied condition numbers.\n",
    "\n",
    " The condition number of a function measures how much the output value of the function can change for a small change \n",
    " \n",
    " in the input argument. This is used to measure how sensitive a function is to changes or errors in the input.\n",
    " \n",
    "It is also used to measure how much error in the output results from an error in the input.\n",
    "\n",
    "As always I implemented sympy to calculate the derivative of a given function at a specific point, at the end I review the condition number formula :\n",
    "\n",
    "$|f'(x) \\frac{x}{f(x)}|$"
   ]
  }
 ],
 "metadata": {
  "kernelspec": {
   "display_name": "Python 3.10.6 64-bit",
   "language": "python",
   "name": "python3"
  },
  "language_info": {
   "codemirror_mode": {
    "name": "ipython",
    "version": 3
   },
   "file_extension": ".py",
   "mimetype": "text/x-python",
   "name": "python",
   "nbconvert_exporter": "python",
   "pygments_lexer": "ipython3",
   "version": "3.10.6"
  },
  "orig_nbformat": 4,
  "vscode": {
   "interpreter": {
    "hash": "e7370f93d1d0cde622a1f8e1c04877d8463912d04d973331ad4851f04de6915a"
   }
  }
 },
 "nbformat": 4,
 "nbformat_minor": 2
}
