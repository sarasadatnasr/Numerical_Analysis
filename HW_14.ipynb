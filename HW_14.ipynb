{
 "cells": [
  {
   "attachments": {},
   "cell_type": "markdown",
   "metadata": {},
   "source": [
    "# Regression\n",
    "__Author__ : sara sadat nasr - 99222109\n",
    "\n",
    "__Course__ : Undergraduate Numerical Analysis Course"
   ]
  },
  {
   "cell_type": "code",
   "execution_count": 1,
   "metadata": {},
   "outputs": [],
   "source": [
    "import numpy as np\n",
    "import scipy.integrate as spi\n",
    "import matplotlib.pyplot as plt\n",
    "from scipy.stats import linregress\n",
    "import numpy as np\n",
    "import matplotlib.pyplot as plt\n",
    "from scipy.optimize import curve_fit"
   ]
  },
  {
   "attachments": {},
   "cell_type": "markdown",
   "metadata": {},
   "source": [
    "## Problem 1\n",
    "Calculate an exponential mathematical model on these data points:\n",
    "\n",
    "$t_i = 1, 2, 3, 4, 5, 6$\n",
    "\n",
    "$y_i = 1, 2.3, 4.1, 7.8, 15.9, 33$\n",
    "\n",
    "You can use ln $y = \\ln(a) + bx$ for your calculations."
   ]
  },
  {
   "cell_type": "code",
   "execution_count": 2,
   "metadata": {},
   "outputs": [
    {
     "name": "stdout",
     "output_type": "stream",
     "text": [
      "The exponential model is: y = 0.53 * e^0.68x\n"
     ]
    }
   ],
   "source": [
    "ti = [1, 2, 3, 4, 5, 6]\n",
    "yi = [1, 2.3, 4.1, 7.8, 15.9, 33]\n",
    "yx = [np.log(y) for y in yi]  \n",
    "slope, intercept, r_value, p_value, std_err = linregress(ti, yx)\n",
    "b = slope         \n",
    "a = np.exp(intercept)   \n",
    "\n",
    "print(f\"The exponential model is: y = {a:.2f} * e^{b:.2f}x\")"
   ]
  },
  {
   "attachments": {},
   "cell_type": "markdown",
   "metadata": {},
   "source": [
    "## Problem 2\n",
    "Calculate a model with formula $y =\\frac{1}{a + bx}$ on first question data points.\n",
    "\n",
    "You can use $\\frac{1}{y} = a + bx $ and $Y = A + Bx.$."
   ]
  },
  {
   "cell_type": "code",
   "execution_count": 6,
   "metadata": {},
   "outputs": [
    {
     "name": "stdout",
     "output_type": "stream",
     "text": [
      "[-0.91176053  2.89139934]\n"
     ]
    }
   ],
   "source": [
    "def func(x, a, b):\n",
    "    return 1 / (a + b * x)\n",
    "\n",
    "x = np.array([1, 2, 3, 4, 5])\n",
    "y = np.array([0.5, 0.25, 0.125, 0.0625, 0.03125])\n",
    "\n",
    "popt, pcov = curve_fit(func, x, y)\n",
    "\n",
    "print(popt)"
   ]
  },
  {
   "cell_type": "code",
   "execution_count": 5,
   "metadata": {},
   "outputs": [
    {
     "name": "stdout",
     "output_type": "stream",
     "text": [
      "[-9.2  7.2]\n"
     ]
    }
   ],
   "source": [
    "def func(x, A, B):\n",
    "    return A + B * x\n",
    "\n",
    "popt, pcov = curve_fit(func, x, 1/y)\n",
    "\n",
    "print(popt)"
   ]
  },
  {
   "attachments": {},
   "cell_type": "markdown",
   "metadata": {},
   "source": [
    "## Conclusion for this problem\n",
    "formula $y = \\frac{1}{a + bx}$ and the equivalent equation $\\frac{1}{y} = a + bx$, can calculate a model that fits the first question's data points. \n",
    "\n",
    "This can be done by using the linear regression equation $Y = A + Bx$, where $A$ and $B$ are the intercept and slope of the line, respectively.\n",
    "\n",
    "By fitting this model to the data, we can make predictions about future values of $y$ based on the value of $x$."
   ]
  }
 ],
 "metadata": {
  "kernelspec": {
   "display_name": "Python 3.10.6 64-bit",
   "language": "python",
   "name": "python3"
  },
  "language_info": {
   "codemirror_mode": {
    "name": "ipython",
    "version": 3
   },
   "file_extension": ".py",
   "mimetype": "text/x-python",
   "name": "python",
   "nbconvert_exporter": "python",
   "pygments_lexer": "ipython3",
   "version": "3.10.6"
  },
  "orig_nbformat": 4,
  "vscode": {
   "interpreter": {
    "hash": "767d51c1340bd893661ea55ea3124f6de3c7a262a8b4abca0554b478b1e2ff90"
   }
  }
 },
 "nbformat": 4,
 "nbformat_minor": 2
}
