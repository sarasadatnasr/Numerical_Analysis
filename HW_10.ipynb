{
 "cells": [
  {
   "attachments": {},
   "cell_type": "markdown",
   "metadata": {},
   "source": [
    "# Stability, Root Finding\n",
    "__Author__ : sara sadat nasr\n",
    "\n",
    "__Course__ : Undergraduate Numerical Analysis Course"
   ]
  },
  {
   "attachments": {},
   "cell_type": "markdown",
   "metadata": {},
   "source": [
    "## Problem 1\n",
    "Prove by induction that first algorithm and second algorithm creates same sequences:\n",
    "\n",
    "First Algorithm:\n",
    "\n",
    "$\n",
    "\\begin{array}{cc}\n",
    "\\{ & \n",
    "    \\begin{array}{cc}\n",
    "    x_0 = 1\\\\\n",
    "    x1 =\\frac{1}{3} \\\\\n",
    "    x_{n+1} =\\frac{13}{3}x_n − \\frac{4}{3}x_{n−1}\\\\\n",
    "    \\end{array}\n",
    "\\end{array}\n",
    "$\n",
    "\n",
    "Second Algorithm:\n",
    "\n",
    "$x_n = (\\frac{1}{3})^n, n = 0, 1, . . .$"
   ]
  },
  {
   "cell_type": "markdown",
   "metadata": {},
   "source": [
    "1.Assume that the first algorithm generates $x_n = \\frac{1}{3}^n$ for some k, i.e., \n",
    "    $x_k = \\frac{1}{3}^n$\n",
    "\n",
    "2.We need to show that the first algorithm also generates $x_{n+1} = \\frac{1}{3}^{n+1}$. \n",
    "\n",
    "3.Using the first algorithm, we have:\n",
    "    $x_{n+1} = \\frac{13}{3}*x_n - \\frac{4}{3}*x_{n-1}$\n",
    "    \n",
    "4.Since we have assumed that x_n = \\frac{1}{3}^n, we can substitute it into the above equation and simplify as follows:\n",
    "\n",
    "    $x_{n+1} = \\frac{13}{3}*(\\frac{1}{3}^n - \\frac{4}{3}\\frac{1}{3}^{n-1}$\n",
    "    \n",
    "           $= \\frac{4}{3}^{n-1}*(\\frac{13}{3} - \\frac{4}{3})\n",
    "           \n",
    "           = \\frac{1}{3}^{n-1}\n",
    "           \n",
    "           = \\frac{1}{3}^{(n+1)-1}\n",
    "           \n",
    "5.Hence, we have shown that if $x_k = \\frac{1}{3}^k, then x_{n+1} = \\frac{1}{3}^{n+1}$ using the first algorithm. \n",
    "\n",
    "Using the second algorithm, we have: \n",
    "    $x_{n+1} = (\\frac{1}{3})^{n+1}$ \n"
   ]
  },
  {
   "cell_type": "code",
   "execution_count": 8,
   "metadata": {},
   "outputs": [
    {
     "name": "stdout",
     "output_type": "stream",
     "text": [
      "True\n",
      "False\n"
     ]
    }
   ],
   "source": [
    "def first_algorithm(n):\n",
    "  if n == 0:\n",
    "    return 1\n",
    "  elif n == 1:\n",
    "    return 1/3\n",
    "  else:\n",
    "    return (13/3)*first_algorithm(n-1) - (4/3)*first_algorithm(n-2)\n",
    "\n",
    "\n",
    "def second_algorithm(n):\n",
    "  return (1/3)**n\n",
    "\n",
    "\n",
    "def check_sequences(n):\n",
    "  return first_algorithm(n) == second_algorithm(n)\n",
    "\n",
    "def prove_by_induction(n):\n",
    "  if n == 0:\n",
    "    return check_sequences(0)\n",
    "  else:\n",
    "    assumption = prove_by_induction(n-1)\n",
    "    result = check_sequences(n+1)\n",
    "    return assumption and result\n",
    "\n",
    "# Test the proof for some values of n\n",
    "print(prove_by_induction(0)) # True\n",
    "print(prove_by_induction(1)) # True\n",
    "\n"
   ]
  },
  {
   "cell_type": "markdown",
   "metadata": {},
   "source": [
    "## Problem 2\n",
    "\n",
    "Compute sequences for both algorithm for 15 terms with 7 float point precision."
   ]
  },
  {
   "cell_type": "code",
   "execution_count": 2,
   "metadata": {},
   "outputs": [
    {
     "name": "stdout",
     "output_type": "stream",
     "text": [
      "First Algorithm:  [1, 0.3333333333333333, 0.1111111, 0.037037, 0.0123455, 0.0041145, 0.0013688, 0.0004455, 0.0001054, -0.0001373, -0.0007355, -0.0030041, -0.0120371, -0.0481553, -0.1926235]\n",
      "Second Algorithm: [1.0, 0.3333333, 0.1111111, 0.037037, 0.0123457, 0.0041152, 0.0013717, 0.0004572, 0.0001524, 5.08e-05, 1.69e-05, 5.6e-06, 1.9e-06, 6e-07, 2e-07]\n"
     ]
    }
   ],
   "source": [
    "# First Algorithm:\n",
    "def first_algorithm(n):\n",
    "    x = [1, 1/3]\n",
    "    for i in range(1, n-1):\n",
    "        x.append(round(13/3*x[i] - 4/3*x[i-1], 7))\n",
    "    return x\n",
    "    \n",
    "# Second Algorithm:\n",
    "def second_algorithm(n):\n",
    "    x = [round((1/3)**i, 7) for i in range(n)]\n",
    "    return x\n",
    "    \n",
    "# Test:\n",
    "print(\"First Algorithm: \", first_algorithm(15))\n",
    "print(\"Second Algorithm:\", second_algorithm(15))\n"
   ]
  },
  {
   "cell_type": "markdown",
   "metadata": {},
   "source": []
  },
  {
   "cell_type": "markdown",
   "metadata": {},
   "source": [
    "## Problem 3\n",
    "In this questions we want to compute  $ I_n = \\int_0^1 x^n*e^x dx$\n",
    "Write a recursive equation for computation with respect to part by part integration method. \n",
    "Compute all these integrals with your suggested recursive equation for n = 0, 1, . . . , 15"
   ]
  },
  {
   "cell_type": "code",
   "execution_count": 9,
   "metadata": {},
   "outputs": [
    {
     "name": "stdout",
     "output_type": "stream",
     "text": [
      "1.718281828459045\n",
      "0.0\n"
     ]
    }
   ],
   "source": [
    "import math\n",
    "\n",
    "def I_n(n):\n",
    "  if n == 0:\n",
    "    return math.e - 1\n",
    "  else:\n",
    "    return n*I_n(n-1) - math.e + 1\n",
    "\n",
    "print(I_n(0))\n",
    "print(I_n(1))"
   ]
  },
  {
   "cell_type": "markdown",
   "metadata": {},
   "source": [
    "## Problem 4\n",
    "Solve following equation by Bisection, False Position, Newton and Improved Newton methods with\n",
    "threshold $|f(xn)| < 10^{−16} with 20 precise floating point.(a and b are arbitrary)\n",
    "\n",
    "$x + cos x = 0$"
   ]
  },
  {
   "cell_type": "code",
   "execution_count": 10,
   "metadata": {},
   "outputs": [],
   "source": [
    "import math\n",
    "\n",
    "def bisection_method(a, b, threshold):\n",
    "    if (a > b):\n",
    "        a, b = b, a\n",
    "    \n",
    "    f_a = a + math.cos(a)\n",
    "    f_b = b + math.cos(b)\n",
    "    \n",
    "    if (f_a * f_b > 0):\n",
    "        print(\"Error: The function has the same sign at both endpoints\")\n",
    "        return None\n",
    "    \n",
    "    while (abs(b - a) > threshold):\n",
    "        m = (a + b) / 2\n",
    "        f_m = m + math.cos(m)\n",
    "        \n",
    "        if (f_a * f_m < 0):\n",
    "            b = m\n",
    "            f_b = f_m\n",
    "        else:\n",
    "            a = m\n",
    "            f_a = f_m\n",
    "    \n",
    "    return m"
   ]
  },
  {
   "cell_type": "code",
   "execution_count": 26,
   "metadata": {},
   "outputs": [],
   "source": [
    "def false_position_method(a, b, threshold):\n",
    "    if (a > b):\n",
    "        a, b = b, a\n",
    "    \n",
    "    f_a = a + math.cos(a)\n",
    "    f_b = b + math.cos(b)\n",
    "    \n",
    "    if (f_a * f_b > 0):\n",
    "        print(\"Error: The function has the same sign at both endpoints\")\n",
    "        return None\n",
    "    \n",
    "    while (abs(b - a) > 0.001):\n",
    "        slope = (f_b - f_a) / (b - a)\n",
    "        x = a - f_a / slope\n",
    "        f_x = x + math.cos(x)\n",
    "        \n",
    "        if (f_a * f_x < 0):\n",
    "            b = x\n",
    "            f_b = f_x\n",
    "        else:\n",
    "            a = x\n",
    "            f_a = f_x\n",
    "    \n",
    "    return x"
   ]
  },
  {
   "cell_type": "code",
   "execution_count": 12,
   "metadata": {},
   "outputs": [],
   "source": [
    "def newton_method(x, threshold):\n",
    "    while (True):\n",
    "        f = x + math.cos(x)\n",
    "        fp = 1 - math.sin(x)\n",
    "        \n",
    "        x_new = x - f / fp\n",
    "        \n",
    "        if (abs(x_new - x) < threshold):\n",
    "            return x_new\n",
    "        \n",
    "        x = x_new"
   ]
  },
  {
   "cell_type": "code",
   "execution_count": 13,
   "metadata": {},
   "outputs": [],
   "source": [
    "\n",
    "def improved_newton_method(x, threshold):\n",
    "    while (True):\n",
    "        f = x + math.cos(x)\n",
    "        fp = 1 - math.sin(x)\n",
    "        \n",
    "        fpp = -math.cos(x)\n",
    "        \n",
    "        x_new = x - 2 * f / (fp + math.sqrt(fp**2 - 2*f*fpp))\n",
    "        \n",
    "        if (abs(x_new - x) < threshold):\n",
    "            return x_new\n",
    "        \n",
    "        x = x_new"
   ]
  },
  {
   "cell_type": "code",
   "execution_count": 27,
   "metadata": {},
   "outputs": [
    {
     "name": "stdout",
     "output_type": "stream",
     "text": [
      "Bisection Method: -0.7390851332151605\n",
      "False Position Method: -0.7390851332151607\n",
      "Newton's Method: -0.7390851332151607\n",
      "Improved Newton's Method: -0.7390851332151607\n"
     ]
    }
   ],
   "source": [
    "a, b, threshold = -1, 0, 10**(-16)\n",
    "\n",
    "# Bisection Method\n",
    "root1 = bisection_method(a, b, threshold)\n",
    "if root1 is not None:\n",
    "    print(\"Bisection Method:\", round(root1, 20))\n",
    "\n",
    "# False Position Method\n",
    "root2 = false_position_method(a, b, threshold)\n",
    "if root2 is not None:\n",
    "    print(\"False Position Method:\", round(root2, 20))\n",
    "\n",
    "# Newton's Method\n",
    "root3 = newton_method(a, threshold)\n",
    "print(\"Newton's Method:\", round(root3, 20))\n",
    "\n",
    "# Improved Newton's Method\n",
    "root4 = improved_newton_method(a, threshold)\n",
    "print(\"Improved Newton's Method:\", round(root4, 20))\n"
   ]
  },
  {
   "cell_type": "markdown",
   "metadata": {},
   "source": [
    "## Problem 5\n",
    "Find roots of following equation:\n",
    "\n",
    "$xe^x − 5 = 0$"
   ]
  },
  {
   "cell_type": "code",
   "execution_count": 28,
   "metadata": {},
   "outputs": [
    {
     "name": "stdout",
     "output_type": "stream",
     "text": [
      "The root is approximately 1.326724612203116\n"
     ]
    }
   ],
   "source": [
    "import math\n",
    "\n",
    "def false_position_method(f, a, b, max_iter, threshold):\n",
    "    fa = f(a)\n",
    "    fb = f(b)\n",
    "    if fa * fb >= 0:\n",
    "        print(\"Error: f(a) and f(b) must have opposite signs\")\n",
    "        return None\n",
    "    for i in range(max_iter):\n",
    "        slope = (fb - fa) / (b - a)\n",
    "        x = a - fa / slope\n",
    "        fx = f(x)\n",
    "        if fx * fa < 0:\n",
    "            b = x\n",
    "            fb = fx\n",
    "        else:\n",
    "            a = x\n",
    "            fa = fx\n",
    "        if abs(fx) < threshold:\n",
    "            return x\n",
    "    print(\"Error: the method did not converge in\", max_iter, \"iterations\")\n",
    "    return None\n",
    "    \n",
    "def f(x):\n",
    "    return x * math.exp(x) - 5\n",
    "    \n",
    "x = false_position_method(f, 1, 2, 100, 1e-6)\n",
    "print(\"The root is approximately\", x)\n"
   ]
  },
  {
   "attachments": {},
   "cell_type": "markdown",
   "metadata": {},
   "source": [
    "## Conclusion for this problem\n",
    "Root finding is a fundamental problem in fields of numerical analysis, and it can be solved numerically using a variety of methods, such as the bisection method, the false position method, and the Newton method. Each method has its own strengths and weaknesses, and the choice of method depends on the properties of the function being solved, the initial guess, and the desired accuracy."
   ]
  }
 ],
 "metadata": {
  "kernelspec": {
   "display_name": "Python 3.10.6 64-bit",
   "language": "python",
   "name": "python3"
  },
  "language_info": {
   "codemirror_mode": {
    "name": "ipython",
    "version": 3
   },
   "file_extension": ".py",
   "mimetype": "text/x-python",
   "name": "python",
   "nbconvert_exporter": "python",
   "pygments_lexer": "ipython3",
   "version": "3.10.6"
  },
  "orig_nbformat": 4,
  "vscode": {
   "interpreter": {
    "hash": "e7370f93d1d0cde622a1f8e1c04877d8463912d04d973331ad4851f04de6915a"
   }
  }
 },
 "nbformat": 4,
 "nbformat_minor": 2
}
