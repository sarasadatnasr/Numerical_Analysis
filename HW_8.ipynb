{
 "cells": [
  {
   "attachments": {},
   "cell_type": "markdown",
   "metadata": {},
   "source": [
    "# Significant Figures Title\n",
    "__Author__ : Sara sadat nasr + 99222109\n",
    "\n",
    "__Course__ : Undergraduate Numerical Analysis Course"
   ]
  },
  {
   "cell_type": "code",
   "execution_count": 9,
   "metadata": {},
   "outputs": [],
   "source": [
    "import pandas as pd\n",
    "import math"
   ]
  },
  {
   "attachments": {},
   "cell_type": "markdown",
   "metadata": {},
   "source": [
    "## Problem 1\n",
    "Assume we use $f(x) = x(\\sqrt(x + 1) -\\sqrt(x))$ for computing error of losing significant figures for big xs.\n",
    "\n",
    "compute errors for six figures.\n"
   ]
  },
  {
   "cell_type": "code",
   "execution_count": 43,
   "metadata": {},
   "outputs": [],
   "source": [
    "def exact1(x):\n",
    "    result = x * (math.sqrt(x+1) - math.sqrt(x))\n",
    "    return result"
   ]
  },
  {
   "cell_type": "code",
   "execution_count": 44,
   "metadata": {},
   "outputs": [],
   "source": [
    "def approximate1(x):\n",
    "    result = round(exact1(x), 6)\n",
    "    return result"
   ]
  },
  {
   "cell_type": "code",
   "execution_count": 49,
   "metadata": {},
   "outputs": [],
   "source": [
    "def exError1(x):\n",
    "    result = abs(exact1(x)-approximate1(x))\n",
    "    return result"
   ]
  },
  {
   "cell_type": "code",
   "execution_count": 46,
   "metadata": {},
   "outputs": [],
   "source": [
    "def reError1(x):\n",
    "    result = exError1(x)/exact1(x)\n",
    "    return result\n",
    "   "
   ]
  },
  {
   "cell_type": "code",
   "execution_count": 50,
   "metadata": {},
   "outputs": [],
   "source": [
    "def sumTrans1(x):\n",
    "    result = x /(math.sqrt(x+1) + math.sqrt(x+1))\n",
    "    return result"
   ]
  },
  {
   "cell_type": "code",
   "execution_count": 52,
   "metadata": {},
   "outputs": [],
   "source": [
    "x = [1, 10, 100, 1000, 10000, 100000]\n",
    "ex = []\n",
    "apr = []\n",
    "exE = [] \n",
    "reE = []\n",
    "sT = []\n",
    "\n",
    "for i in x:\n",
    "    ex.append(exact1(i))\n",
    "    apr.append( approximate1(i))\n",
    "    exE.append(exError1(i))\n",
    "    reE.append(reError1(i))\n",
    "    sT.append(sumTrans1(i))\n",
    "\n",
    "data = {'x': x, 'Exact': ex, 'Approximate': apr , 'Exact Error': exE, 'Relative Error': reE, 'Sum Transformation':sT}\n",
    "df = pd.DataFrame(data)"
   ]
  },
  {
   "cell_type": "code",
   "execution_count": 53,
   "metadata": {},
   "outputs": [
    {
     "data": {
      "text/html": [
       "<div>\n",
       "<style scoped>\n",
       "    .dataframe tbody tr th:only-of-type {\n",
       "        vertical-align: middle;\n",
       "    }\n",
       "\n",
       "    .dataframe tbody tr th {\n",
       "        vertical-align: top;\n",
       "    }\n",
       "\n",
       "    .dataframe thead th {\n",
       "        text-align: right;\n",
       "    }\n",
       "</style>\n",
       "<table border=\"1\" class=\"dataframe\">\n",
       "  <thead>\n",
       "    <tr style=\"text-align: right;\">\n",
       "      <th></th>\n",
       "      <th>x</th>\n",
       "      <th>Exact</th>\n",
       "      <th>Approximate</th>\n",
       "      <th>Exact Error</th>\n",
       "      <th>Relative Error</th>\n",
       "      <th>Sum Transformation</th>\n",
       "    </tr>\n",
       "  </thead>\n",
       "  <tbody>\n",
       "    <tr>\n",
       "      <th>0</th>\n",
       "      <td>1</td>\n",
       "      <td>0.414214</td>\n",
       "      <td>0.414214</td>\n",
       "      <td>4.376269e-07</td>\n",
       "      <td>1.056525e-06</td>\n",
       "      <td>0.353553</td>\n",
       "    </tr>\n",
       "    <tr>\n",
       "      <th>1</th>\n",
       "      <td>10</td>\n",
       "      <td>1.543471</td>\n",
       "      <td>1.543471</td>\n",
       "      <td>3.018702e-07</td>\n",
       "      <td>1.955788e-07</td>\n",
       "      <td>1.507557</td>\n",
       "    </tr>\n",
       "    <tr>\n",
       "      <th>2</th>\n",
       "      <td>100</td>\n",
       "      <td>4.987562</td>\n",
       "      <td>4.987562</td>\n",
       "      <td>1.120890e-07</td>\n",
       "      <td>2.247370e-08</td>\n",
       "      <td>4.975186</td>\n",
       "    </tr>\n",
       "    <tr>\n",
       "      <th>3</th>\n",
       "      <td>1000</td>\n",
       "      <td>15.807437</td>\n",
       "      <td>15.807437</td>\n",
       "      <td>4.289576e-07</td>\n",
       "      <td>2.713644e-08</td>\n",
       "      <td>15.803489</td>\n",
       "    </tr>\n",
       "    <tr>\n",
       "      <th>4</th>\n",
       "      <td>10000</td>\n",
       "      <td>49.998750</td>\n",
       "      <td>49.998750</td>\n",
       "      <td>6.248544e-08</td>\n",
       "      <td>1.249740e-09</td>\n",
       "      <td>49.997500</td>\n",
       "    </tr>\n",
       "    <tr>\n",
       "      <th>5</th>\n",
       "      <td>100000</td>\n",
       "      <td>158.113488</td>\n",
       "      <td>158.113488</td>\n",
       "      <td>2.744137e-07</td>\n",
       "      <td>1.735549e-09</td>\n",
       "      <td>158.113092</td>\n",
       "    </tr>\n",
       "  </tbody>\n",
       "</table>\n",
       "</div>"
      ],
      "text/plain": [
       "        x       Exact  Approximate   Exact Error  Relative Error  \\\n",
       "0       1    0.414214     0.414214  4.376269e-07    1.056525e-06   \n",
       "1      10    1.543471     1.543471  3.018702e-07    1.955788e-07   \n",
       "2     100    4.987562     4.987562  1.120890e-07    2.247370e-08   \n",
       "3    1000   15.807437    15.807437  4.289576e-07    2.713644e-08   \n",
       "4   10000   49.998750    49.998750  6.248544e-08    1.249740e-09   \n",
       "5  100000  158.113488   158.113488  2.744137e-07    1.735549e-09   \n",
       "\n",
       "   Sum Transformation  \n",
       "0            0.353553  \n",
       "1            1.507557  \n",
       "2            4.975186  \n",
       "3           15.803489  \n",
       "4           49.997500  \n",
       "5          158.113092  "
      ]
     },
     "execution_count": 53,
     "metadata": {},
     "output_type": "execute_result"
    }
   ],
   "source": [
    "df"
   ]
  },
  {
   "cell_type": "markdown",
   "metadata": {},
   "source": [
    "## Problem 2"
   ]
  },
  {
   "cell_type": "markdown",
   "metadata": {},
   "source": [
    "(a) Compute rounding of $\\sqrt 2,\\sqrt 3 $ and $\\sqrt 23 $ with three precise figures."
   ]
  },
  {
   "cell_type": "code",
   "execution_count": 54,
   "metadata": {},
   "outputs": [
    {
     "name": "stdout",
     "output_type": "stream",
     "text": [
      "1.414\n",
      "1.732\n",
      "4.796\n"
     ]
    }
   ],
   "source": [
    "print(round(math.sqrt(2), 3))\n",
    "print(round(math.sqrt(3), 3))\n",
    "print(round(math.sqrt(23), 3))"
   ]
  },
  {
   "cell_type": "markdown",
   "metadata": {},
   "source": [
    "(b) Compute rounding of $\\sqrt 2,\\sqrt 3 $ and $\\sqrt 23 $ with four precise figures."
   ]
  },
  {
   "cell_type": "code",
   "execution_count": 55,
   "metadata": {},
   "outputs": [
    {
     "name": "stdout",
     "output_type": "stream",
     "text": [
      "1.4142\n",
      "1.7321\n",
      "4.7958\n"
     ]
    }
   ],
   "source": [
    "print(round(math.sqrt(2), 4))\n",
    "print(round(math.sqrt(3), 4))\n",
    "print(round(math.sqrt(23), 4))"
   ]
  },
  {
   "cell_type": "markdown",
   "metadata": {},
   "source": [
    "(c) Compute Error for each of them in above sections"
   ]
  },
  {
   "cell_type": "code",
   "execution_count": 59,
   "metadata": {},
   "outputs": [
    {
     "name": "stdout",
     "output_type": "stream",
     "text": [
      "the error for square root of  2  with three precise figures is 0.00021356237309522186\n",
      "the error for square root of  3  with three precise figures is 5.0807568877209164e-05\n",
      "the error for square root of  23  with three precise figures is 0.0001684766872811494\n"
     ]
    }
   ],
   "source": [
    "for i in [2,3,23]:\n",
    "    rounded = round(math.sqrt(i), 3)\n",
    "    real = math.sqrt(i)\n",
    "    error = abs(real-rounded)\n",
    "    print('the error for square root of ',i,' with three precise figures is',error)"
   ]
  },
  {
   "cell_type": "code",
   "execution_count": 60,
   "metadata": {},
   "outputs": [
    {
     "name": "stdout",
     "output_type": "stream",
     "text": [
      "the error for square root of  2  with four precise figures is 1.3562373095243885e-05\n",
      "the error for square root of  3  with four precise figures is 4.919243112277982e-05\n",
      "the error for square root of  23  with four precise figures is 3.152331271927267e-05\n"
     ]
    }
   ],
   "source": [
    "for i in [2,3,23]:\n",
    "    rounded = round(math.sqrt(i), 4)\n",
    "    real = math.sqrt(i)\n",
    "    error = abs(real-rounded)\n",
    "    print('the error for square root of ',i,' with four precise figures is',error)"
   ]
  },
  {
   "cell_type": "markdown",
   "metadata": {},
   "source": [
    "(d) Consider we use f(x) = $\\frac{1−cos(x)}{x^2}$ for computing error of losing significant figures for small xs."
   ]
  },
  {
   "cell_type": "code",
   "execution_count": 61,
   "metadata": {},
   "outputs": [],
   "source": [
    "def exact2(x):\n",
    "    result = (1-math.cos(x)) / (x**2)\n",
    "    return result"
   ]
  },
  {
   "cell_type": "code",
   "execution_count": 62,
   "metadata": {},
   "outputs": [],
   "source": [
    "def approximate2(x):\n",
    "    result = round(exact2(x), 4)\n",
    "    return result"
   ]
  },
  {
   "cell_type": "code",
   "execution_count": 63,
   "metadata": {},
   "outputs": [],
   "source": [
    "def exError2(x):\n",
    "    result = abs(exact2(x)-approximate2(x))\n",
    "    return result"
   ]
  },
  {
   "cell_type": "code",
   "execution_count": 64,
   "metadata": {},
   "outputs": [],
   "source": [
    "def reError2(x):\n",
    "    result = exError2(x) / exact2(x)\n",
    "    return result"
   ]
  },
  {
   "cell_type": "code",
   "execution_count": 65,
   "metadata": {},
   "outputs": [],
   "source": [
    "def sumTrans2(x):\n",
    "    result = (math.sin(x)**2) /((x**2)*(1 + math.cos(x)))\n",
    "    return result"
   ]
  },
  {
   "cell_type": "code",
   "execution_count": 68,
   "metadata": {},
   "outputs": [],
   "source": [
    "x = [1, 0.1, 0.001, 0.0001, 0.00001, 0.000001]\n",
    "ex = []\n",
    "apr = []\n",
    "exE = [] \n",
    "reE = []\n",
    "sT = []\n",
    "\n",
    "for i in x:\n",
    "    ex.append(exact2(i))\n",
    "    apr.append( approximate2(i))\n",
    "    exE.append(exError2(i))\n",
    "    reE.append(reError2(i))\n",
    "    sT.append(sumTrans2(i))\n",
    "\n",
    "data = {'x': x, 'Exact': ex, 'Approximate': apr , 'Exact Error': exE, 'Relative Error': reE, 'Sum Transformation':sT}\n",
    "df = pd.DataFrame(data)"
   ]
  },
  {
   "cell_type": "code",
   "execution_count": 69,
   "metadata": {},
   "outputs": [
    {
     "data": {
      "text/html": [
       "<div>\n",
       "<style scoped>\n",
       "    .dataframe tbody tr th:only-of-type {\n",
       "        vertical-align: middle;\n",
       "    }\n",
       "\n",
       "    .dataframe tbody tr th {\n",
       "        vertical-align: top;\n",
       "    }\n",
       "\n",
       "    .dataframe thead th {\n",
       "        text-align: right;\n",
       "    }\n",
       "</style>\n",
       "<table border=\"1\" class=\"dataframe\">\n",
       "  <thead>\n",
       "    <tr style=\"text-align: right;\">\n",
       "      <th></th>\n",
       "      <th>x</th>\n",
       "      <th>Exact</th>\n",
       "      <th>Approximate</th>\n",
       "      <th>Exact Error</th>\n",
       "      <th>Relative Error</th>\n",
       "      <th>Sum Transformation</th>\n",
       "    </tr>\n",
       "  </thead>\n",
       "  <tbody>\n",
       "    <tr>\n",
       "      <th>0</th>\n",
       "      <td>1.000000</td>\n",
       "      <td>0.459698</td>\n",
       "      <td>0.4597</td>\n",
       "      <td>2.305868e-06</td>\n",
       "      <td>5.016053e-06</td>\n",
       "      <td>0.459698</td>\n",
       "    </tr>\n",
       "    <tr>\n",
       "      <th>1</th>\n",
       "      <td>0.100000</td>\n",
       "      <td>0.499583</td>\n",
       "      <td>0.4996</td>\n",
       "      <td>1.652780e-05</td>\n",
       "      <td>3.308317e-05</td>\n",
       "      <td>0.499583</td>\n",
       "    </tr>\n",
       "    <tr>\n",
       "      <th>2</th>\n",
       "      <td>0.001000</td>\n",
       "      <td>0.500000</td>\n",
       "      <td>0.5000</td>\n",
       "      <td>4.167450e-08</td>\n",
       "      <td>8.334900e-08</td>\n",
       "      <td>0.500000</td>\n",
       "    </tr>\n",
       "    <tr>\n",
       "      <th>3</th>\n",
       "      <td>0.000100</td>\n",
       "      <td>0.500000</td>\n",
       "      <td>0.5000</td>\n",
       "      <td>3.038735e-09</td>\n",
       "      <td>6.077471e-09</td>\n",
       "      <td>0.500000</td>\n",
       "    </tr>\n",
       "    <tr>\n",
       "      <th>4</th>\n",
       "      <td>0.000010</td>\n",
       "      <td>0.500000</td>\n",
       "      <td>0.5000</td>\n",
       "      <td>4.137019e-08</td>\n",
       "      <td>8.274036e-08</td>\n",
       "      <td>0.500000</td>\n",
       "    </tr>\n",
       "    <tr>\n",
       "      <th>5</th>\n",
       "      <td>0.000001</td>\n",
       "      <td>0.500044</td>\n",
       "      <td>0.5000</td>\n",
       "      <td>4.445029e-05</td>\n",
       "      <td>8.889268e-05</td>\n",
       "      <td>0.500000</td>\n",
       "    </tr>\n",
       "  </tbody>\n",
       "</table>\n",
       "</div>"
      ],
      "text/plain": [
       "          x     Exact  Approximate   Exact Error  Relative Error  \\\n",
       "0  1.000000  0.459698       0.4597  2.305868e-06    5.016053e-06   \n",
       "1  0.100000  0.499583       0.4996  1.652780e-05    3.308317e-05   \n",
       "2  0.001000  0.500000       0.5000  4.167450e-08    8.334900e-08   \n",
       "3  0.000100  0.500000       0.5000  3.038735e-09    6.077471e-09   \n",
       "4  0.000010  0.500000       0.5000  4.137019e-08    8.274036e-08   \n",
       "5  0.000001  0.500044       0.5000  4.445029e-05    8.889268e-05   \n",
       "\n",
       "   Sum Transformation  \n",
       "0            0.459698  \n",
       "1            0.499583  \n",
       "2            0.500000  \n",
       "3            0.500000  \n",
       "4            0.500000  \n",
       "5            0.500000  "
      ]
     },
     "execution_count": 69,
     "metadata": {},
     "output_type": "execute_result"
    }
   ],
   "source": [
    "df"
   ]
  },
  {
   "attachments": {},
   "cell_type": "markdown",
   "metadata": {},
   "source": [
    "## Conclusion for this problems\n",
    "In this session, we studied error and its types. For example, absolute error,\n",
    "\n",
    "which can be easily calculated, returns the difference between the actual value and the estimated value.\n",
    " \n",
    "This makes us understand how far we are from the ideal value, or relative error, the ratio of absolute error to the actual value.\n",
    "  \n",
    "which gives a better sense of accuracy on different scales. In the end, it becomes a compound union, which solves the problem of reducing meaningful digits."
   ]
  },
  {
   "cell_type": "code",
   "execution_count": null,
   "metadata": {},
   "outputs": [],
   "source": []
  }
 ],
 "metadata": {
  "kernelspec": {
   "display_name": "Python 3.10.6 64-bit",
   "language": "python",
   "name": "python3"
  },
  "language_info": {
   "codemirror_mode": {
    "name": "ipython",
    "version": 3
   },
   "file_extension": ".py",
   "mimetype": "text/x-python",
   "name": "python",
   "nbconvert_exporter": "python",
   "pygments_lexer": "ipython3",
   "version": "3.10.6"
  },
  "orig_nbformat": 4,
  "vscode": {
   "interpreter": {
    "hash": "e7370f93d1d0cde622a1f8e1c04877d8463912d04d973331ad4851f04de6915a"
   }
  }
 },
 "nbformat": 4,
 "nbformat_minor": 2
}
