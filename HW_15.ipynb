{
 "cells": [
  {
   "attachments": {},
   "cell_type": "markdown",
   "metadata": {},
   "source": [
    "# Integration\n",
    "__Author__ : sara sadat nasr - 99222109\n",
    "\n",
    "__Course__ : Undergraduate Numerical Analysis Course"
   ]
  },
  {
   "cell_type": "code",
   "execution_count": 1,
   "metadata": {},
   "outputs": [],
   "source": [
    "import numpy as np\n",
    "import scipy.integrate as spi\n",
    "import matplotlib.pyplot as plt\n",
    "from scipy.stats import linregress\n",
    "import numpy as np\n",
    "import matplotlib.pyplot as plt\n",
    "from scipy.optimize import curve_fit"
   ]
  },
  {
   "attachments": {},
   "cell_type": "markdown",
   "metadata": {},
   "source": [
    "## Problem 1\n",
    "In Newton-Raphson methods, $\\int_{a}^{b}f(x)dx = \\Sigma w_j f(x_j)$. That means we consider integral equals by weighted sum of function f in same distance points $x_j$ which are determined and we only need to\n",
    "determine weights.\n",
    "Consider $x_j$ s as variable, for polynomials with degree zero and one calculate formula in template of\n",
    "$\\int_{-1}^{1}f(x)dx = \\Sigma w_1 f(x)$. to achive highest precision.\n",
    "\n",
    "$f(x) = 1 ⇒ w_1 × 1 = \\int_{-1}^{1} 1 dx = 2$\n",
    "\n",
    "$f(x) = x ⇒ w_1 × x_1 = \\int_{-1}^{1}x dx= 0$"
   ]
  },
  {
   "cell_type": "code",
   "execution_count": 5,
   "metadata": {},
   "outputs": [],
   "source": [
    "def gauss_legendre_weights(n):\n",
    "    x, _ = np.polynomial.legendre.leggauss(n)\n",
    "    w = np.zeros(n)\n",
    "    for i in range(n):\n",
    "        p = np.polynomial.legendre.Legendre.basis(i)(x)\n",
    "        w[i] = 2 / ((1 - x[i]**2) * p**2).sum()\n",
    "    return x, w\n"
   ]
  },
  {
   "cell_type": "code",
   "execution_count": 6,
   "metadata": {},
   "outputs": [
    {
     "name": "stdout",
     "output_type": "stream",
     "text": [
      "x = [-0.57735027  0.57735027]\n",
      "w = [1.5 4.5]\n"
     ]
    }
   ],
   "source": [
    "x, w = gauss_legendre_weights(2)\n",
    "print(\"x =\", x)\n",
    "print(\"w =\", w)"
   ]
  },
  {
   "attachments": {},
   "cell_type": "markdown",
   "metadata": {},
   "source": [
    "## Problem 2\n",
    "Solve previous question for two points. $\\int_{-1}^{1}f(x)dx =  w_1f(x_1) + w_2f(x_2)$"
   ]
  },
  {
   "cell_type": "code",
   "execution_count": 11,
   "metadata": {},
   "outputs": [],
   "source": [
    "def gauss_legendre(f, a, b, n):\n",
    "    x, _ = np.polynomial.legendre.leggauss(n)\n",
    "    w = np.zeros(n)\n",
    "    for i in range(n):\n",
    "        p = np.polynomial.legendre.Legendre.basis(i)(x)\n",
    "        w[i] = 2 / ((1 - x[i]**2) * p**2).sum()\n",
    "    x_mapped = (b - a) / 2 * x + (a + b) / 2\n",
    "    w_mapped = (b - a) / 2 * w\n",
    "    integral = np.dot(w_mapped, f(x_mapped))\n",
    "    \n",
    "    return integral"
   ]
  },
  {
   "cell_type": "code",
   "execution_count": 12,
   "metadata": {},
   "outputs": [
    {
     "name": "stdout",
     "output_type": "stream",
     "text": [
      "Integral of f(x) from -1 to 1 using 2 points = 1.9999999999999998\n"
     ]
    }
   ],
   "source": [
    "f = lambda x: x**2\n",
    "a, b = -1, 1\n",
    "n = 2\n",
    "integral = gauss_legendre(f, a, b, n)\n",
    "print(\"Integral of f(x) from\", a, \"to\", b, \"using\", n, \"points =\", integral)"
   ]
  },
  {
   "attachments": {},
   "cell_type": "markdown",
   "metadata": {},
   "source": [
    "## Conclusion for this problem\n",
    "The Newton-Cotes formulas are numerical methods for approximating integrals of functions. \n",
    "\n",
    "The two-point Newton-Cotes formula involves approximating the integral of a function over the interval [-1, 1] using two equally spaced points and their corresponding weights.\n",
    "\n",
    "The formula yields exact results for linear functions but may yield approximate results for other (higher degree) functions."
   ]
  }
 ],
 "metadata": {
  "kernelspec": {
   "display_name": "Python 3.10.6 64-bit",
   "language": "python",
   "name": "python3"
  },
  "language_info": {
   "codemirror_mode": {
    "name": "ipython",
    "version": 3
   },
   "file_extension": ".py",
   "mimetype": "text/x-python",
   "name": "python",
   "nbconvert_exporter": "python",
   "pygments_lexer": "ipython3",
   "version": "3.10.6"
  },
  "orig_nbformat": 4,
  "vscode": {
   "interpreter": {
    "hash": "767d51c1340bd893661ea55ea3124f6de3c7a262a8b4abca0554b478b1e2ff90"
   }
  }
 },
 "nbformat": 4,
 "nbformat_minor": 2
}
