{
 "cells": [
  {
   "attachments": {},
   "cell_type": "markdown",
   "metadata": {},
   "source": [
    "# NumPy - Pandas Assignment\n",
    "__Author__ : Sara sadat Nasr + 99222109\n",
    "\n",
    "__Course__ : Undergraduate Numerical Analysis Course"
   ]
  },
  {
   "cell_type": "markdown",
   "metadata": {},
   "source": [
    "In this assignment, you will be working with a dataset of daily temperatures.\n",
    "\n",
    "The dataset is provided in a CSV file called temperatures.csv."
   ]
  },
  {
   "attachments": {},
   "cell_type": "markdown",
   "metadata": {},
   "source": [
    "## 1. NumPy Tasks:"
   ]
  },
  {
   "attachments": {},
   "cell_type": "markdown",
   "metadata": {},
   "source": [
    "### Part a)\n",
    "Load the temperatures.csv file into a Numpy array. What is the shape of the array?"
   ]
  },
  {
   "cell_type": "code",
   "execution_count": 1,
   "metadata": {},
   "outputs": [],
   "source": [
    "from numpy import genfromtxt\n",
    "import numpy as np\n",
    "import pandas as pd"
   ]
  },
  {
   "cell_type": "code",
   "execution_count": 2,
   "metadata": {},
   "outputs": [
    {
     "data": {
      "text/plain": [
       "(52, 3)"
      ]
     },
     "execution_count": 2,
     "metadata": {},
     "output_type": "execute_result"
    }
   ],
   "source": [
    "arr = genfromtxt('tempratures.csv', delimiter=',', dtype=str)\n",
    "# even header is counted\n",
    "arr.shape"
   ]
  },
  {
   "attachments": {},
   "cell_type": "markdown",
   "metadata": {},
   "source": [
    "### Part b)\n",
    "Calculate the average temperature for each city. What is the average temperature for each city\n",
    "in the dataset?"
   ]
  },
  {
   "cell_type": "code",
   "execution_count": 10,
   "metadata": {},
   "outputs": [
    {
     "name": "stdout",
     "output_type": "stream",
     "text": [
      "the average temperature for Los Angeles 20.529411764705884\n",
      "the average temperature for New York 0.15882352941176478\n",
      "the average temperature for Miami 22.61764705882353\n"
     ]
    }
   ],
   "source": [
    "los = []\n",
    "mia = []\n",
    "ny = []\n",
    "for i in range(52):\n",
    "    if arr[i][1] == 'Los Angeles':\n",
    "        los.append(float(arr[i][2]))\n",
    "\n",
    "    elif arr[i][1] == 'New York':\n",
    "        ny.append(float(arr[i][2]))\n",
    "\n",
    "    elif arr[i][1] == 'Miami':\n",
    "        mia.append(float(arr[i][2]))\n",
    "\n",
    "lsT = np.mean(los)\n",
    "miaT = np.mean(mia)\n",
    "nyT = np.mean(ny)\n",
    "print('the average temperature for Los Angeles', lsT)  \n",
    "print('the average temperature for New York',nyT) \n",
    "print('the average temperature for Miami', miaT) \n"
   ]
  },
  {
   "cell_type": "markdown",
   "metadata": {},
   "source": [
    "### Part c)\n",
    "Calculate the maximum temperature for each city.\n",
    "What is the maximum temperature for each city in the dataset?"
   ]
  },
  {
   "cell_type": "code",
   "execution_count": 4,
   "metadata": {},
   "outputs": [
    {
     "name": "stdout",
     "output_type": "stream",
     "text": [
      "the maximum temperature for Los Angeles 24.4\n",
      "the maximum temperature for New York 5.8\n",
      "the maximum temperature for Miami 25.8\n"
     ]
    }
   ],
   "source": [
    "los = []\n",
    "mia = []\n",
    "ny = []\n",
    "for i in range(52):\n",
    "    if arr[i][1] == 'Los Angeles':\n",
    "        los.append(float(arr[i][2]))\n",
    "\n",
    "    elif arr[i][1] == 'New York':\n",
    "        ny.append(float(arr[i][2]))\n",
    "\n",
    "    elif arr[i][1] == 'Miami':\n",
    "        mia.append(float(arr[i][2]))\n",
    "\n",
    "print('the maximum temperature for Los Angeles', np.max(los))  \n",
    "print('the maximum temperature for New York', np.max(ny)) \n",
    "print('the maximum temperature for Miami', np.max(mia)) "
   ]
  },
  {
   "cell_type": "markdown",
   "metadata": {},
   "source": [
    "## 2. Pandas Tasks :"
   ]
  },
  {
   "cell_type": "markdown",
   "metadata": {},
   "source": [
    "### Part a)\n",
    "Load the temperatures.csv file into a Pandas DataFrame. What is the shape of the DataFrame?"
   ]
  },
  {
   "cell_type": "code",
   "execution_count": 5,
   "metadata": {},
   "outputs": [
    {
     "name": "stdout",
     "output_type": "stream",
     "text": [
      "(51, 3)\n"
     ]
    }
   ],
   "source": [
    "df = pd.read_csv('tempratures.csv')\n",
    "# pandas skips the header of table \n",
    "print(df.shape)"
   ]
  },
  {
   "cell_type": "markdown",
   "metadata": {},
   "source": [
    "### Part b)\n",
    "Calculate the median temperature for each city. What is the median temperature for each city\n",
    "in the dataset?"
   ]
  },
  {
   "cell_type": "code",
   "execution_count": 6,
   "metadata": {},
   "outputs": [
    {
     "name": "stdout",
     "output_type": "stream",
     "text": [
      "the maximum temperature for Los Angeles is:  20.5\n",
      "the maximum temperature for New York is:  0.5\n",
      "the maximum temperature for Miami is:  22.6\n"
     ]
    }
   ],
   "source": [
    "\n",
    "la_df = df.loc[df['city'] == 'Los Angeles']\n",
    "losM = la_df['temperature'].median()\n",
    "\n",
    "ny_df = df.loc[df['city'] == 'New York']\n",
    "newM = ny_df['temperature'].median()\n",
    "\n",
    "mi_df = df.loc[df['city'] == 'Miami']\n",
    "miaM = mi_df['temperature'].median()\n",
    "\n",
    "print('the maximum temperature for Los Angeles is: ', losM)  \n",
    "print('the maximum temperature for New York is: ', newM) \n",
    "print('the maximum temperature for Miami is: ', miaM) "
   ]
  },
  {
   "cell_type": "markdown",
   "metadata": {},
   "source": [
    "### Part c)\n",
    "Calculate the daily temperature range for each year. What is the difference between the\n",
    "maximum and minimum temperature for each city in the dataset?"
   ]
  },
  {
   "cell_type": "code",
   "execution_count": 7,
   "metadata": {},
   "outputs": [
    {
     "name": "stdout",
     "output_type": "stream",
     "text": [
      "the daily temperature range for each year is:  14.435294117647056\n",
      "the maximum temperature for Los Angeles is:  8.499999999999998\n",
      "the maximum temperature for New York is:  13.1\n",
      "the maximum temperature for Miami is:  33.1\n"
     ]
    }
   ],
   "source": [
    "yearT = df['temperature'].mean()\n",
    "\n",
    "la_df = df.loc[df['city'] == 'Los Angeles']\n",
    "losD = la_df['temperature'].max() - la_df['temperature'].min()\n",
    "\n",
    "ny_df = df.loc[df['city'] == 'New York']\n",
    "newD = ny_df['temperature'].max() - ny_df['temperature'].min()\n",
    "\n",
    "mi_df = df.loc[df['city'] == 'Miami']\n",
    "miaD = mi_df['temperature'].max() - ny_df['temperature'].min()\n",
    "\n",
    "print('the daily temperature range for each year is: ', yearT) \n",
    "print('the maximum temperature for Los Angeles is: ', losD)  \n",
    "print('the maximum temperature for New York is: ', newD) \n",
    "print('the maximum temperature for Miami is: ', miaD) \n"
   ]
  },
  {
   "cell_type": "markdown",
   "metadata": {},
   "source": [
    "### 3. Bonus Task :"
   ]
  },
  {
   "cell_type": "markdown",
   "metadata": {},
   "source": [
    "Merge the temperatures.csv file with a second CSV file called cities.csv which contains information about the cities.\n",
    "\n",
    "The two files can be merged on the common column city. Once merged, create a new column in the resulting\n",
    "\n",
    "DataFrame which indicates whether the temperature was above or below the average temperature for that city."
   ]
  },
  {
   "cell_type": "code",
   "execution_count": 17,
   "metadata": {},
   "outputs": [
    {
     "name": "stdout",
     "output_type": "stream",
     "text": [
      "(34, 6)\n",
      "          date      city  temperature country  latitude  longitude is above\n",
      "0   2022-01-01  New York          0.5     USA   40.7128   -74.0060      yes\n",
      "1   2022-01-02  New York          2.3     USA   40.7128   -74.0060      yes\n",
      "2   2022-01-03  New York          4.8     USA   40.7128   -74.0060      yes\n",
      "3   2022-01-04  New York          3.2     USA   40.7128   -74.0060      yes\n",
      "4   2022-01-05  New York         -1.9     USA   40.7128   -74.0060       No\n",
      "5   2022-01-06  New York         -2.1     USA   40.7128   -74.0060       No\n",
      "6   2022-01-07  New York          1.3     USA   40.7128   -74.0060      yes\n",
      "7   2022-01-08  New York          4.2     USA   40.7128   -74.0060      yes\n",
      "8   2022-01-09  New York          5.8     USA   40.7128   -74.0060      yes\n",
      "9   2022-01-10  New York         -1.1     USA   40.7128   -74.0060       No\n",
      "10  2022-01-11  New York         -4.6     USA   40.7128   -74.0060       No\n",
      "11  2022-01-12  New York         -7.3     USA   40.7128   -74.0060       No\n",
      "12  2022-01-13  New York         -2.4     USA   40.7128   -74.0060       No\n",
      "13  2022-01-14  New York          1.5     USA   40.7128   -74.0060      yes\n",
      "14  2022-01-15  New York          2.1     USA   40.7128   -74.0060      yes\n",
      "15  2022-01-16  New York         -0.9     USA   40.7128   -74.0060       No\n",
      "16  2022-01-17  New York         -2.7     USA   40.7128   -74.0060       No\n",
      "17  2022-01-01     Miami         24.7     USA   25.7617   -80.1918      yes\n",
      "18  2022-01-02     Miami         22.9     USA   25.7617   -80.1918      yes\n",
      "19  2022-01-03     Miami         21.2     USA   25.7617   -80.1918       No\n",
      "20  2022-01-04     Miami         23.5     USA   25.7617   -80.1918      yes\n",
      "21  2022-01-05     Miami         20.1     USA   25.7617   -80.1918       No\n",
      "22  2022-01-06     Miami         25.3     USA   25.7617   -80.1918      yes\n",
      "23  2022-01-07     Miami         21.8     USA   25.7617   -80.1918       No\n",
      "24  2022-01-08     Miami         22.4     USA   25.7617   -80.1918       No\n",
      "25  2022-01-09     Miami         20.5     USA   25.7617   -80.1918       No\n",
      "26  2022-01-10     Miami         23.1     USA   25.7617   -80.1918      yes\n",
      "27  2022-01-11     Miami         25.8     USA   25.7617   -80.1918      yes\n",
      "28  2022-01-12     Miami         22.6     USA   25.7617   -80.1918       No\n",
      "29  2022-01-13     Miami         19.7     USA   25.7617   -80.1918       No\n",
      "30  2022-01-14     Miami         20.2     USA   25.7617   -80.1918       No\n",
      "31  2022-01-15     Miami         21.5     USA   25.7617   -80.1918       No\n",
      "32  2022-01-16     Miami         23.9     USA   25.7617   -80.1918      yes\n",
      "33  2022-01-17     Miami         25.3     USA   25.7617   -80.1918      yes\n"
     ]
    },
    {
     "name": "stderr",
     "output_type": "stream",
     "text": [
      "/tmp/ipykernel_13015/497125077.py:17: SettingWithCopyWarning: \n",
      "A value is trying to be set on a copy of a slice from a DataFrame\n",
      "\n",
      "See the caveats in the documentation: https://pandas.pydata.org/pandas-docs/stable/user_guide/indexing.html#returning-a-view-versus-a-copy\n",
      "  df3['is above'][i] = 'yes'\n",
      "/tmp/ipykernel_13015/497125077.py:19: SettingWithCopyWarning: \n",
      "A value is trying to be set on a copy of a slice from a DataFrame\n",
      "\n",
      "See the caveats in the documentation: https://pandas.pydata.org/pandas-docs/stable/user_guide/indexing.html#returning-a-view-versus-a-copy\n",
      "  df3['is above'][i] = 'No'\n",
      "/tmp/ipykernel_13015/497125077.py:23: SettingWithCopyWarning: \n",
      "A value is trying to be set on a copy of a slice from a DataFrame\n",
      "\n",
      "See the caveats in the documentation: https://pandas.pydata.org/pandas-docs/stable/user_guide/indexing.html#returning-a-view-versus-a-copy\n",
      "  df3['is above'][i] = 'yes'\n",
      "/tmp/ipykernel_13015/497125077.py:25: SettingWithCopyWarning: \n",
      "A value is trying to be set on a copy of a slice from a DataFrame\n",
      "\n",
      "See the caveats in the documentation: https://pandas.pydata.org/pandas-docs/stable/user_guide/indexing.html#returning-a-view-versus-a-copy\n",
      "  df3['is above'][i] = 'No'\n"
     ]
    }
   ],
   "source": [
    "df1 = pd.read_csv('tempratures.csv')\n",
    "df2 = pd.read_csv('cities.csv')\n",
    "df3 = df1.merge(df2)\n",
    "print(df3.shape)\n",
    "losT = np.mean(los)\n",
    "nyT = np.mean(ny)\n",
    "df3['is above'] = \"\"\n",
    "for i in range (34):\n",
    "    if df3['city'][i] == 'Los Angeles':\n",
    "        if df3['temperature'][i]>= lsT:\n",
    "            df3['is above'][i] = 'yes'\n",
    "        else:\n",
    "            df3['is above'][i] = 'No'    \n",
    "\n",
    "    if df3['city'][i] == 'New York':\n",
    "        if df3['temperature'][i]>= nyT:\n",
    "            df3['is above'][i] = 'yes'\n",
    "        else:\n",
    "            df3['is above'][i] = 'No' \n",
    "\n",
    "    if df3['city'][i] == 'Miami':\n",
    "        if df3['temperature'][i]>= miaT:\n",
    "            df3['is above'][i] = 'yes'\n",
    "        else:\n",
    "            df3['is above'][i] = 'No'         \n",
    "print(df3)"
   ]
  },
  {
   "attachments": {},
   "cell_type": "markdown",
   "metadata": {},
   "source": [
    "## Conclusion for this problem\n",
    "Write a conclusion and references which you've used in your homework"
   ]
  },
  {
   "cell_type": "code",
   "execution_count": null,
   "metadata": {},
   "outputs": [],
   "source": []
  }
 ],
 "metadata": {
  "kernelspec": {
   "display_name": "Python 3.10.6 64-bit",
   "language": "python",
   "name": "python3"
  },
  "language_info": {
   "codemirror_mode": {
    "name": "ipython",
    "version": 3
   },
   "file_extension": ".py",
   "mimetype": "text/x-python",
   "name": "python",
   "nbconvert_exporter": "python",
   "pygments_lexer": "ipython3",
   "version": "3.10.6"
  },
  "orig_nbformat": 4,
  "vscode": {
   "interpreter": {
    "hash": "e7370f93d1d0cde622a1f8e1c04877d8463912d04d973331ad4851f04de6915a"
   }
  }
 },
 "nbformat": 4,
 "nbformat_minor": 2
}
