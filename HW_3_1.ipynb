{
 "cells": [
  {
   "cell_type": "markdown",
   "metadata": {},
   "source": []
  },
  {
   "cell_type": "markdown",
   "metadata": {},
   "source": [
    "# derivative\n",
    "\n",
    "\n",
    "sarasadat nasr  99222109"
   ]
  },
  {
   "cell_type": "markdown",
   "metadata": {},
   "source": [
    "# introduction \n",
    "goal : calculate first and second derivative of $ y = \\sin(3*x)$\n",
    "and forward and central Error\n",
    "\n",
    "\n",
    "point : x = 2"
   ]
  },
  {
   "cell_type": "markdown",
   "metadata": {},
   "source": [
    "import requirements"
   ]
  },
  {
   "cell_type": "code",
   "execution_count": 4,
   "metadata": {},
   "outputs": [],
   "source": [
    "import math \n",
    "import pandas as pd\n",
    "import matplotlib.pyplot as plt"
   ]
  },
  {
   "cell_type": "markdown",
   "metadata": {},
   "source": [
    "firstDerivative calculator function\n",
    "\n",
    "$y = \\frac{f(x+h)-f(x)}{h}$"
   ]
  },
  {
   "cell_type": "code",
   "execution_count": 5,
   "metadata": {},
   "outputs": [],
   "source": [
    "def firstDerivative(h):\n",
    "    eq = (math.sin(3*(2+h)) - math.sin(3*(2))) / h\n",
    "    return eq"
   ]
  },
  {
   "cell_type": "markdown",
   "metadata": {},
   "source": [
    "second Derivative calculator function\n",
    "\n",
    "$y = \\frac{f(x+h)-2*f(x)+ f(x-h)}{h^2}$"
   ]
  },
  {
   "cell_type": "code",
   "execution_count": 6,
   "metadata": {},
   "outputs": [],
   "source": [
    "def secondDerivative(h):\n",
    "    eq = (math.sin(3*(2+h)) - (2*math.sin(3*(2))) + math.sin(3*(2-h)))/ math.pow(h,2)\n",
    "    return eq"
   ]
  },
  {
   "cell_type": "markdown",
   "metadata": {},
   "source": [
    "central approximation calculator function for first Derivative\n",
    "\n",
    "$y = \\frac{f(x+h)-f(x-h)}{2h}$"
   ]
  },
  {
   "cell_type": "code",
   "execution_count": 7,
   "metadata": {},
   "outputs": [],
   "source": [
    "def centralApproximation1(h):\n",
    "    eq = (math.sin(3*(2+h)) - math.sin(3*(2-h))) / (2*h)\n",
    "    return eq"
   ]
  },
  {
   "cell_type": "markdown",
   "metadata": {},
   "source": [
    "central approximation calculator function for second Derivative\n",
    "\n",
    "$y = \\frac{f'(x+h)-f'(x-h)}{2h}$"
   ]
  },
  {
   "cell_type": "code",
   "execution_count": 20,
   "metadata": {},
   "outputs": [],
   "source": [
    "def centralApproximation2(h):\n",
    "    #eq = (firstDerivative(2*h) - firstDerivative(-2*h))/ 2*h\n",
    "    eq = (math.sin(3*(2+(2*h)))- math.sin(3*(2+h)) - math.sin(3*(2-(2*h))) + math.sin(3*(2-h))) / 2*math.pow(h,2)\n",
    "    return eq"
   ]
  },
  {
   "cell_type": "code",
   "execution_count": 9,
   "metadata": {},
   "outputs": [],
   "source": [
    "h = [1,0.5, 0.25, 0.125,0.0625]\n",
    "prd = []\n",
    "pre = []\n",
    "cnd = []\n",
    "cnr = []\n",
    "rtoP = [0]\n",
    "rtoC = [0]\n",
    "\n",
    "exact = 3 * math.cos(3*2)\n",
    "for i in h:\n",
    "    prd.append(firstDerivative(i))\n",
    "    pre.append(exact-firstDerivative(i))\n",
    "    cnd.append(centralApproximation1(i))\n",
    "    cnr.append(exact-centralApproximation1(i))\n",
    "for j in range(4):\n",
    "    rtoP.append(firstDerivative(h[j])-firstDerivative(h[j+1]))\n",
    "    rtoC.append(centralApproximation1(h[j])-centralApproximation1(h[j+1]))\n",
    "\n",
    "data = {'h': h, 'forward': prd, 'forward Error': pre, 'Ratio': rtoP, 'central':cnd, \n",
    "'central Error':cnr, 'ratio': rtoC}\n",
    "df = pd.DataFrame(data)\n"
   ]
  },
  {
   "cell_type": "code",
   "execution_count": 10,
   "metadata": {},
   "outputs": [
    {
     "data": {
      "text/html": [
       "<div>\n",
       "<style scoped>\n",
       "    .dataframe tbody tr th:only-of-type {\n",
       "        vertical-align: middle;\n",
       "    }\n",
       "\n",
       "    .dataframe tbody tr th {\n",
       "        vertical-align: top;\n",
       "    }\n",
       "\n",
       "    .dataframe thead th {\n",
       "        text-align: right;\n",
       "    }\n",
       "</style>\n",
       "<table border=\"1\" class=\"dataframe\">\n",
       "  <thead>\n",
       "    <tr style=\"text-align: right;\">\n",
       "      <th></th>\n",
       "      <th>h</th>\n",
       "      <th>forward</th>\n",
       "      <th>forward Error</th>\n",
       "      <th>Ratio</th>\n",
       "      <th>central</th>\n",
       "      <th>central Error</th>\n",
       "      <th>ratio</th>\n",
       "    </tr>\n",
       "  </thead>\n",
       "  <tbody>\n",
       "    <tr>\n",
       "      <th>0</th>\n",
       "      <td>1.0000</td>\n",
       "      <td>0.691534</td>\n",
       "      <td>2.188977</td>\n",
       "      <td>0.000000</td>\n",
       "      <td>0.135499</td>\n",
       "      <td>2.745012</td>\n",
       "      <td>0.000000</td>\n",
       "    </tr>\n",
       "    <tr>\n",
       "      <th>1</th>\n",
       "      <td>0.5000</td>\n",
       "      <td>2.434831</td>\n",
       "      <td>0.445680</td>\n",
       "      <td>-1.743297</td>\n",
       "      <td>1.915530</td>\n",
       "      <td>0.964981</td>\n",
       "      <td>-1.780031</td>\n",
       "    </tr>\n",
       "    <tr>\n",
       "      <th>2</th>\n",
       "      <td>0.2500</td>\n",
       "      <td>2.917838</td>\n",
       "      <td>-0.037327</td>\n",
       "      <td>-0.483007</td>\n",
       "      <td>2.617957</td>\n",
       "      <td>0.262554</td>\n",
       "      <td>-0.702427</td>\n",
       "    </tr>\n",
       "    <tr>\n",
       "      <th>3</th>\n",
       "      <td>0.1250</td>\n",
       "      <td>2.968810</td>\n",
       "      <td>-0.088299</td>\n",
       "      <td>-0.050972</td>\n",
       "      <td>2.813472</td>\n",
       "      <td>0.067039</td>\n",
       "      <td>-0.195515</td>\n",
       "    </tr>\n",
       "    <tr>\n",
       "      <th>4</th>\n",
       "      <td>0.0625</td>\n",
       "      <td>2.942018</td>\n",
       "      <td>-0.061507</td>\n",
       "      <td>0.026792</td>\n",
       "      <td>2.863663</td>\n",
       "      <td>0.016848</td>\n",
       "      <td>-0.050191</td>\n",
       "    </tr>\n",
       "  </tbody>\n",
       "</table>\n",
       "</div>"
      ],
      "text/plain": [
       "        h   forward  forward Error     Ratio   central  central Error  \\\n",
       "0  1.0000  0.691534       2.188977  0.000000  0.135499       2.745012   \n",
       "1  0.5000  2.434831       0.445680 -1.743297  1.915530       0.964981   \n",
       "2  0.2500  2.917838      -0.037327 -0.483007  2.617957       0.262554   \n",
       "3  0.1250  2.968810      -0.088299 -0.050972  2.813472       0.067039   \n",
       "4  0.0625  2.942018      -0.061507  0.026792  2.863663       0.016848   \n",
       "\n",
       "      ratio  \n",
       "0  0.000000  \n",
       "1 -1.780031  \n",
       "2 -0.702427  \n",
       "3 -0.195515  \n",
       "4 -0.050191  "
      ]
     },
     "execution_count": 10,
     "metadata": {},
     "output_type": "execute_result"
    }
   ],
   "source": [
    "df"
   ]
  },
  {
   "cell_type": "code",
   "execution_count": 11,
   "metadata": {},
   "outputs": [
    {
     "data": {
      "image/png": "[encoded data removed]",
      "text/plain": [
       "<Figure size 640x480 with 1 Axes>"
      ]
     },
     "metadata": {},
     "output_type": "display_data"
    }
   ],
   "source": [
    "\n",
    "x = df['h']\n",
    "y = df['forward Error']\n",
    "z = df['central Error']\n",
    "\n",
    "# plot lines\n",
    "plt.plot(x, y, label = \"forward Error\")\n",
    "plt.plot(x, z, label = \"central error\")\n",
    "plt.legend()\n",
    "plt.show()"
   ]
  },
  {
   "cell_type": "code",
   "execution_count": 21,
   "metadata": {},
   "outputs": [],
   "source": [
    "h = [1,0.5, 0.25, 0.125,0.0625]\n",
    "prd = []\n",
    "pre = []\n",
    "cnd = []\n",
    "cnr = []\n",
    "rtoP = [0]\n",
    "rtoC = [0]\n",
    "\n",
    "exact = -9 * math.sin(3*2)\n",
    "for i in h:\n",
    "    prd.append(secondDerivative(i))\n",
    "    pre.append(exact-secondDerivative(i))\n",
    "    cnd.append(centralApproximation2(i))\n",
    "    cnr.append(exact-centralApproximation2(i))\n",
    "for j in range(4):\n",
    "    rtoP.append(secondDerivative(h[j])-secondDerivative(h[j+1]))\n",
    "    rtoC.append(centralApproximation2(h[j])-centralApproximation2(h[j+1]))\n",
    "\n",
    "data = {'h': h, 'forward': prd, 'forward Error': pre, 'Ratio': rtoP, 'central':cnd, \n",
    "'central Error':cnr, 'ratio': rtoC}\n",
    "df = pd.DataFrame(data)"
   ]
  },
  {
   "cell_type": "code",
   "execution_count": 22,
   "metadata": {},
   "outputs": [
    {
     "data": {
      "text/html": [
       "<div>\n",
       "<style scoped>\n",
       "    .dataframe tbody tr th:only-of-type {\n",
       "        vertical-align: middle;\n",
       "    }\n",
       "\n",
       "    .dataframe tbody tr th {\n",
       "        vertical-align: top;\n",
       "    }\n",
       "\n",
       "    .dataframe thead th {\n",
       "        text-align: right;\n",
       "    }\n",
       "</style>\n",
       "<table border=\"1\" class=\"dataframe\">\n",
       "  <thead>\n",
       "    <tr style=\"text-align: right;\">\n",
       "      <th></th>\n",
       "      <th>h</th>\n",
       "      <th>forward</th>\n",
       "      <th>forward Error</th>\n",
       "      <th>Ratio</th>\n",
       "      <th>central</th>\n",
       "      <th>central Error</th>\n",
       "      <th>ratio</th>\n",
       "    </tr>\n",
       "  </thead>\n",
       "  <tbody>\n",
       "    <tr>\n",
       "      <th>0</th>\n",
       "      <td>1.0000</td>\n",
       "      <td>1.112069</td>\n",
       "      <td>1.402670</td>\n",
       "      <td>0.000000</td>\n",
       "      <td>-0.403786</td>\n",
       "      <td>2.918525</td>\n",
       "      <td>0.000000</td>\n",
       "    </tr>\n",
       "    <tr>\n",
       "      <th>1</th>\n",
       "      <td>0.5000</td>\n",
       "      <td>2.077203</td>\n",
       "      <td>0.437536</td>\n",
       "      <td>-0.965134</td>\n",
       "      <td>-0.205566</td>\n",
       "      <td>2.720306</td>\n",
       "      <td>-0.198219</td>\n",
       "    </tr>\n",
       "    <tr>\n",
       "      <th>2</th>\n",
       "      <td>0.2500</td>\n",
       "      <td>2.399049</td>\n",
       "      <td>0.115690</td>\n",
       "      <td>-0.321846</td>\n",
       "      <td>0.018955</td>\n",
       "      <td>2.495785</td>\n",
       "      <td>-0.224521</td>\n",
       "    </tr>\n",
       "    <tr>\n",
       "      <th>3</th>\n",
       "      <td>0.1250</td>\n",
       "      <td>2.485408</td>\n",
       "      <td>0.029332</td>\n",
       "      <td>-0.086358</td>\n",
       "      <td>0.004731</td>\n",
       "      <td>2.510008</td>\n",
       "      <td>0.014223</td>\n",
       "    </tr>\n",
       "    <tr>\n",
       "      <th>4</th>\n",
       "      <td>0.0625</td>\n",
       "      <td>2.507381</td>\n",
       "      <td>0.007359</td>\n",
       "      <td>-0.021973</td>\n",
       "      <td>0.000675</td>\n",
       "      <td>2.514065</td>\n",
       "      <td>0.004057</td>\n",
       "    </tr>\n",
       "  </tbody>\n",
       "</table>\n",
       "</div>"
      ],
      "text/plain": [
       "        h   forward  forward Error     Ratio   central  central Error  \\\n",
       "0  1.0000  1.112069       1.402670  0.000000 -0.403786       2.918525   \n",
       "1  0.5000  2.077203       0.437536 -0.965134 -0.205566       2.720306   \n",
       "2  0.2500  2.399049       0.115690 -0.321846  0.018955       2.495785   \n",
       "3  0.1250  2.485408       0.029332 -0.086358  0.004731       2.510008   \n",
       "4  0.0625  2.507381       0.007359 -0.021973  0.000675       2.514065   \n",
       "\n",
       "      ratio  \n",
       "0  0.000000  \n",
       "1 -0.198219  \n",
       "2 -0.224521  \n",
       "3  0.014223  \n",
       "4  0.004057  "
      ]
     },
     "execution_count": 22,
     "metadata": {},
     "output_type": "execute_result"
    }
   ],
   "source": [
    "df"
   ]
  },
  {
   "cell_type": "code",
   "execution_count": 24,
   "metadata": {},
   "outputs": [
    {
     "data": {
      "image/png": "[encoded data removed]",
      "text/plain": [
       "<Figure size 640x480 with 1 Axes>"
      ]
     },
     "metadata": {},
     "output_type": "display_data"
    }
   ],
   "source": [
    "x = df['h']\n",
    "y = df['forward Error']\n",
    "z = df['central Error']\n",
    "\n",
    "# plot lines\n",
    "plt.plot(x, y, label = \"forward Error\")\n",
    "plt.plot(x, z, label = \"central\")\n",
    "plt.legend()\n",
    "plt.show()"
   ]
  }
 ],
 "metadata": {
  "kernelspec": {
   "display_name": "Python 3.10.6 64-bit",
   "language": "python",
   "name": "python3"
  },
  "language_info": {
   "codemirror_mode": {
    "name": "ipython",
    "version": 3
   },
   "file_extension": ".py",
   "mimetype": "text/x-python",
   "name": "python",
   "nbconvert_exporter": "python",
   "pygments_lexer": "ipython3",
   "version": "3.10.6"
  },
  "orig_nbformat": 4,
  "vscode": {
   "interpreter": {
    "hash": "e7370f93d1d0cde622a1f8e1c04877d8463912d04d973331ad4851f04de6915a"
   }
  }
 },
 "nbformat": 4,
 "nbformat_minor": 2
}
